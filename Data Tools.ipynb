{
 "cells": [
  {
   "cell_type": "markdown",
   "metadata": {},
   "source": [
    "# Data Exploration"
   ]
  },
  {
   "cell_type": "code",
   "execution_count": null,
   "metadata": {
    "collapsed": true
   },
   "outputs": [],
   "source": [
    "# Loading data\n",
    "xtest = pd.read_csv('xtest_challenge.csv')"
   ]
  },
  {
   "cell_type": "markdown",
   "metadata": {},
   "source": [
    "# Feature Engineering"
   ]
  },
  {
   "cell_type": "code",
   "execution_count": null,
   "metadata": {
    "collapsed": true
   },
   "outputs": [],
   "source": []
  },
  {
   "cell_type": "markdown",
   "metadata": {},
   "source": [
    "# Algorithms"
   ]
  },
  {
   "cell_type": "markdown",
   "metadata": {},
   "source": [
    "## Run a randomized searchCV with XGBoostClassifier"
   ]
  },
  {
   "cell_type": "code",
   "execution_count": null,
   "metadata": {
    "collapsed": true
   },
   "outputs": [],
   "source": [
    "from sklearn.model_selection import RandomizedSearchCV\n",
    "from xgboost import XGBClassifier\n",
    "\n",
    "# Classifier\n",
    "xgb = XGBClassifier(\n",
    "    n_jobs=-1,\n",
    "    silent=False)\n",
    "\n",
    "# Create hyperparameter options\n",
    "xgb_max_depth=[3, 5, 7, 10]             # Usual values between 3-10\n",
    "xgb_learning_rate=[0.1, 0.5, 1, 1.2]    # Makes the model more robust by shrinking the weights on each step\n",
    "xgb_n_estimators=[100, 200, 500, 1000, 1200]\n",
    "xgb_booster=['gbtree']                  #, 'gblinear', 'dart']\n",
    "xgb_reg_lambda=[1, 2]                   # L2 used to reduce overfitting\n",
    "\n",
    "hyperparameters = dict(\n",
    "    max_depth = xgb_max_depth, \n",
    "    learning_rate = xgb_learning_rate,\n",
    "    n_estimators = xgb_n_estimators,\n",
    "    booster=xgb_booster,\n",
    "    reg_lambda=xgb_lambda)\n",
    "\n",
    "# Create randomized grid search\n",
    "rscv = RandomizedSearchCV(xgb, hyperparameters, random_state=1, n_iter=50, cv=5, verbose=10, n_jobs=-1)\n",
    "# Fit randomized search\n",
    "best_model = rscv.fit(xtrain_part, ytrain_part)\n",
    "\n",
    "# View Hyperparameter Values Of Best Model\n",
    "print('Best max_depth:', best_model.best_estimator_.get_params()['max_depth'])\n",
    "print('Best learning_rate:', best_model.best_estimator_.get_params()['learning_rate'])\n",
    "print('Best n_estimators:', best_model.best_estimator_.get_params()['n_estimators'])"
   ]
  },
  {
   "cell_type": "markdown",
   "metadata": {},
   "source": [
    "## Save a trained model\n",
    "Credit : https://machinelearningmastery.com/save-load-machine-learning-models-python-scikit-learn/"
   ]
  },
  {
   "cell_type": "code",
   "execution_count": null,
   "metadata": {
    "collapsed": true
   },
   "outputs": [],
   "source": [
    "import pickle\n",
    "\n",
    "model = LogisticRegression()\n",
    "model.fit(X_train, Y_train)\n",
    "\n",
    "# Save the model to disk\n",
    "lrmodel_filename = 'saved_lr.sav'\n",
    "pickle.dump(model, open(lrmodel_filename, 'wb'))\n",
    " \n",
    "# Load the model from disk\n",
    "loaded_model = pickle.load(open(lrmodel_filename, 'rb'))\n",
    "result = loaded_model.score(X_test, Y_test)"
   ]
  },
  {
   "cell_type": "markdown",
   "metadata": {},
   "source": [
    "# Challenges"
   ]
  },
  {
   "cell_type": "markdown",
   "metadata": {},
   "source": [
    "## Making a submission"
   ]
  },
  {
   "cell_type": "code",
   "execution_count": 4,
   "metadata": {
    "ExecuteTime": {
     "end_time": "2019-01-05T09:02:32.364905Z",
     "start_time": "2019-01-05T09:02:32.359120Z"
    },
    "collapsed": true
   },
   "outputs": [],
   "source": [
    "def make_submission(test_data, algorithm, filename='submission.csv'):\n",
    "    \"\"\"Creates a CSV file for challenge submission\n",
    "  \n",
    "    test_data: Description of arg1 \n",
    "    algorithm: Algo used for making prediction\n",
    "    filename: 'submission.csv'\n",
    "    \"\"\"\n",
    "    ytest = algorithm.predict(test_data)\n",
    "    np.savetxt(fichier, ytest, fmt = '%1.0d', delimiter=',')"
   ]
  },
  {
   "cell_type": "code",
   "execution_count": null,
   "metadata": {
    "collapsed": true
   },
   "outputs": [],
   "source": []
  }
 ],
 "metadata": {
  "kernelspec": {
   "display_name": "Python 3",
   "language": "python",
   "name": "python3"
  },
  "language_info": {
   "codemirror_mode": {
    "name": "ipython",
    "version": 3
   },
   "file_extension": ".py",
   "mimetype": "text/x-python",
   "name": "python",
   "nbconvert_exporter": "python",
   "pygments_lexer": "ipython3",
   "version": "3.6.2"
  },
  "toc": {
   "base_numbering": 1,
   "nav_menu": {},
   "number_sections": true,
   "sideBar": true,
   "skip_h1_title": false,
   "title_cell": "Table of Contents",
   "title_sidebar": "Contents",
   "toc_cell": false,
   "toc_position": {},
   "toc_section_display": true,
   "toc_window_display": false
  }
 },
 "nbformat": 4,
 "nbformat_minor": 2
}
